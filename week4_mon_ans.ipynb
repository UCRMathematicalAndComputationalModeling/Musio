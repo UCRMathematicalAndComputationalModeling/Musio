{
 "cells": [
  {
   "cell_type": "code",
   "execution_count": 57,
   "metadata": {
    "collapsed": false
   },
   "outputs": [],
   "source": [
    "\n",
    "# Today we are going to build a model to predict the genre of a song from its lyrics\n",
    "# Program Overview (Some tasks you will have to implement yourself):\n",
    "# 1. The top songs from various billboard genre charts are downloaded\n",
    "# 2. The lyrics of each song are downloaded from music mix via their python API\n",
    "# 3. Raw lyric data and various other billboard variables are saved out to file (so you don't have to download every time!)\n",
    "# 4. Song lyrics are converted to vectors of word counts via sklearn\n",
    "# 6. YOUR TASK 1: Deal with missingness: there are some nans in the data, you'll have to get these out!\n",
    "# 7. YOUR TASK 2: Convert genre labels to ints\n",
    "# 8. Train/Test Split\n",
    "# 9. YOUR TASK 3: Scale X Data (i.e. standardize between -1 and 1)\n",
    "# 10. Train multiclass logistic regression model to predict genre\n",
    "# 11. Print accuracy on train/test set\n",
    "\n",
    "#Think about what the accuracy means...\n",
    "\n",
    "# 12. EXTRA TASK FOR EXPERTS: Modify steps 9-11 to do k-fold cross-validation with 5 folds\n",
    "# - This is where you split the data into 5 parts, and train on 4 parts, then test on one. \n",
    "#   Then you reorder, so that the train and test sets are made up of different parts, so that each part is tested on at least once\n",
    "\n",
    "## If you are going to download data then you must download some tools.\n",
    "# In the command line/terminal paste the following two lines to install the required python packages:\n",
    "# cd python-client\n",
    "# python setup.py install\n",
    "# pip install -r requirements.txt\n",
    "\n",
    "\n",
    "##Imports##\n",
    "__author__ = 'bdyetton'\n",
    "import billboard\n",
    "import datetime\n",
    "import pandas as pd\n",
    "import numpy as np\n",
    "import matplotlib.pyplot as plt\n",
    "import swagger_client\n",
    "import sklearn\n",
    "from swagger_client.rest import ApiException\n",
    "from sklearn.model_selection import train_test_split\n",
    "import warnings\n",
    "\n",
    "\n",
    "#import os\n",
    "#import time\n",
    "#import csv\n",
    "#from pprint import pprint\n",
    "#import urllib3\n",
    "#urllib3.disable_warnings()\n",
    "from sklearn.feature_extraction.text import CountVectorizer"
   ]
  },
  {
   "cell_type": "code",
   "execution_count": 3,
   "metadata": {
    "collapsed": true
   },
   "outputs": [],
   "source": [
    "## a \"pure function\", a function that does not rely on anything internal in the download lyrics class, so written seperatly\n",
    "def get_every_week_since(year, month=1, day=1):\n",
    "    time_start = datetime.datetime(year=year, month=month, day=day)\n",
    "    time_inc = datetime.timedelta(days=7)\n",
    "    time_now = datetime.datetime.now()\n",
    "    current_time = time_start\n",
    "    times = []\n",
    "    while current_time < time_now:\n",
    "        times.append(current_time)\n",
    "        current_time += time_inc\n",
    "    return len(times), times"
   ]
  },
  {
   "cell_type": "code",
   "execution_count": 58,
   "metadata": {
    "collapsed": false
   },
   "outputs": [],
   "source": [
    "## Class def\n",
    "class DownloadSongsAndLyrics(object):\n",
    "    \"\"\"A quick and dirty program to download the top billboard songs from a range of genre's and then grab their lyrics from musicmix\"\"\"\n",
    "\n",
    "    def __init__(self):\n",
    "        swagger_client.configuration.api_key['apikey'] = '82414131af109a5fbece76fd5bff52bb'\n",
    "        self.musicmix_lyric_instance = swagger_client.LyricsApi()\n",
    "        self.musicmix_track_instance = swagger_client.TrackApi()\n",
    "\n",
    "\n",
    "    def get_all_songs_from_all_charts(self,songs_per_week=1,get_all_years_since=2017,charts=['hot-holiday-songs','christian-songs','country-songs','rock-songs','pop-songs','r-b-hip-hop-songs','dance-electronic-songs']):\n",
    "        \"\"\"Downloads all the song indormation (w.o. lyrics) from all billboard charts.\"\"\"\n",
    "        self.charts = charts\n",
    "        self.songs_per_week = songs_per_week\n",
    "        chart_songs = []\n",
    "        for chart in self.charts:\n",
    "            chart_songs.append(self.get_all_songs_from_chart(chart,get_all_years_since))\n",
    "        all_charts_df = pd.concat(chart_songs) #concatinate the list of pandas df to a single df\n",
    "        return all_charts_df\n",
    " \n",
    "    def get_all_songs_from_chart(self,chart_name,query_year=2017,max_weeks_missing=5):\n",
    "        print('Beginning download for chart',chart_name)\n",
    "        num_weeks_to_look_back, weeks_to_look_back = get_every_week_since(year=query_year)\n",
    "        num_songs_to_download = num_weeks_to_look_back*self.songs_per_week\n",
    "        #This is where we will save our downloaded song data too\n",
    "        song_df = pd.DataFrame(columns=('chart','title', 'artist', 'weeks', 'rank', 'query_week', 'lyrics'))\n",
    "        miss_counter = 0\n",
    "        #Now step back for num_weeks\n",
    "        for week_idx in range(0, num_weeks_to_look_back): #Better would be to interate over weeks\n",
    "            try:\n",
    "                if week_idx == 0:\n",
    "                    chart_data = billboard.ChartData(chart_name)\n",
    "                    next_date_to_get = chart_data.previousDate\n",
    "                else:             \n",
    "                    chart_data = billboard.ChartData(chart_name, next_date_to_get)\n",
    "                    if not chart_data:\n",
    "                        raise AttributeError(\"Missing data\")\n",
    "                    else:\n",
    "                        next_date_to_get = chart_data.previousDate\n",
    "            except AttributeError as e:\n",
    "                miss_counter += 1\n",
    "                if miss_counter > max_weeks_missing:\n",
    "                    warnings.warn(\"Too many weeks of this chart missing, moving on to next chart\")\n",
    "                    break\n",
    "                print(\"\\nMissing song data for %s, %s\\n\" % (chart_name, next_date_to_get))\n",
    "                current_missing_date = datetime.datetime.strptime(next_date_to_get, '%Y-%m-%d')\n",
    "                previous_date = current_missing_date - datetime.timedelta(days=7)\n",
    "                next_date_to_get = previous_date.strftime('%Y-%m-%d')\n",
    "                print('trying new date of:',next_date_to_get)\n",
    "                continue\n",
    "            songs_from_current_week = 0;\n",
    "            for song in chart_data:\n",
    "                if song.title in song_df[\"title\"].values and song.artist in song_df[\"artist\"].values:\n",
    "                    continue               \n",
    "                lyrics = self.get_lyric_data_for_song(song.title,song.artist)\n",
    "                if lyrics is not None:\n",
    "                    print(\"\\r\",'Downloaded song',song_df.shape[0]+1,'of',num_songs_to_download, end=\"\")\n",
    "                    song_df.loc[song_df.shape[0]+1] = [chart_name,song.title, song.artist, song.weeks, song.rank, chart_data.previousDate,lyrics]\n",
    "                    songs_from_current_week += 1;\n",
    "                    if songs_from_current_week >= self.songs_per_week:\n",
    "                        break\n",
    "        print(' --- Chart Download Complete')\n",
    "        return song_df\n",
    "    \n",
    "    def get_lyric_data_for_song(self,song_title, song_artist):\n",
    "        try:\n",
    "            lyric_response_data = self.musicmix_lyric_instance.matcher_lyrics_get_get(q_track=song_title, q_artist=song_artist)\n",
    "            lyric_data = lyric_response_data.message.body.lyrics\n",
    "            if lyric_data is None:\n",
    "                return None\n",
    "            return lyric_data.lyrics_body.replace('******* This Lyrics is NOT for Commercial use *******','')\n",
    "        except ApiException as e:\n",
    "            print(\"Warning: Exception when getting lyrics for %s, %s: %s\\n\" % (e, song.title, song.artist))\n",
    "            return None    \n",
    "    \n",
    "        "
   ]
  },
  {
   "cell_type": "code",
   "execution_count": 60,
   "metadata": {
    "collapsed": false
   },
   "outputs": [
    {
     "name": "stdout",
     "output_type": "stream",
     "text": [
      "Beginning download for chart hot-holiday-songs\n",
      " Downloaded song 50 of 34525 of 345Downloaded song 33 of 345Downloaded song 38 of 345\n",
      "Missing song data for hot-holiday-songs, 2015-12-05\n",
      "\n",
      "trying new date of: 2015-11-28\n",
      "\n",
      "Missing song data for hot-holiday-songs, 2015-11-28\n",
      "\n",
      "trying new date of: 2015-11-21\n",
      "\n",
      "Missing song data for hot-holiday-songs, 2015-11-21\n",
      "\n",
      "trying new date of: 2015-11-14\n",
      "\n",
      "Missing song data for hot-holiday-songs, 2015-11-14\n",
      "\n",
      "trying new date of: 2015-11-07\n",
      "\n",
      "Missing song data for hot-holiday-songs, 2015-11-07\n",
      "\n",
      "trying new date of: 2015-10-31\n"
     ]
    },
    {
     "name": "stderr",
     "output_type": "stream",
     "text": [
      "C:\\Users\\bdyet\\Anaconda3\\lib\\site-packages\\ipykernel\\__main__.py:43: UserWarning: Too many weeks of this chart missing, moving on to next chart\n"
     ]
    },
    {
     "name": "stdout",
     "output_type": "stream",
     "text": [
      " --- Chart Download Complete\n",
      "Beginning download for chart christian-songs\n",
      " Downloaded song 269 of 345 --- Chart Download Complete\n",
      "Beginning download for chart country-songs\n",
      " Downloaded song 244 of 345 --- Chart Download Complete\n",
      "Beginning download for chart rock-songs\n",
      " Downloaded song 343 of 345 --- Chart Download Complete 345 242 of 345Downloaded song 253 of 345\n",
      "Beginning download for chart pop-songs\n",
      " Downloaded song 222 of 345 --- Chart Download Completeaded song 10 of 345Downloaded song 18 of 345 91 of 345of 345\n",
      "Beginning download for chart r-b-hip-hop-songs\n",
      " Downloaded song 323 of 345 --- Chart Download Completeloaded song 68 of 345 124 of 345 182 of 345Downloaded song 223 of 345\n",
      "Beginning download for chart dance-electronic-songs\n",
      " Downloaded song 293 of 345ownloaded song 20 of 345120 of 345 175 of 345 --- Chart Download Complete\n"
     ]
    }
   ],
   "source": [
    "## Grab lyrics: use the above function\n",
    "downloader = DownloadSongsAndLyrics()\n",
    "all_charts = downloader.get_all_songs_from_all_charts(songs_per_week=5,get_all_years_since=2016)\n",
    "all_charts.to_csv('BillboardLyricData.txt', sep='\\t', encoding='utf-8') #write that bad boy out to file"
   ]
  },
  {
   "cell_type": "code",
   "execution_count": 61,
   "metadata": {
    "collapsed": false
   },
   "outputs": [],
   "source": [
    "class MultiClassLogisticRegressorPurePython(object):\n",
    "    \n",
    "    def __init__(self, lr, n_iter):\n",
    "        self.lr = lr\n",
    "        self.n_iter = n_iter\n",
    "\n",
    "    def fit(self, X, y):\n",
    "        self.n_classes_ = len(np.unique(y))\n",
    "        self.m_ = X.shape[0]\n",
    "        self.w_ = np.zeros((X.shape[1], self.n_classes_))\n",
    "        self.cost_ = []\n",
    "        \n",
    "        \n",
    "        for i in range(self.n_iter):\n",
    "            z = self.net_input(X)\n",
    "            assert not np.isnan(np.sum(z))\n",
    "            p_y = self.softmax_fn(z)\n",
    "            y_onehot = self.onehot_fn(y)\n",
    "            error = (y_onehot - p_y)\n",
    "            grad =  (-1 / self.m_) * X.T.dot(error) \n",
    "            self.w_ = self.w_ - (self.lr * grad)\n",
    "                \n",
    "        \n",
    "            cost = (-1 / self.m_) * np.sum(y_onehot * np.log(p_y))\n",
    "            self.cost_.append(cost)\n",
    "            \n",
    "        return self\n",
    "    \n",
    "    def onehot_fn(self, y):\n",
    "        onehot = np.eye(self.n_classes_)[y]\n",
    "        return onehot\n",
    "\n",
    "    def net_input(self, X):\n",
    "        return np.dot(X, self.w_)\n",
    "\n",
    "    def predict(self, X):\n",
    "        z = self.net_input(X)\n",
    "        return np.argmax(self.softmax_fn(z), axis=1)\n",
    "    \n",
    "    def softmax_fn(self, z):\n",
    "        z -= np.max(z)\n",
    "        softmax = (np.exp(z).T / np.sum(np.exp(z),axis=1)).T\n",
    "        return softmax"
   ]
  },
  {
   "cell_type": "code",
   "execution_count": 62,
   "metadata": {
    "collapsed": false
   },
   "outputs": [
    {
     "name": "stdout",
     "output_type": "stream",
     "text": [
      "Raw DataFrame size: (1744, 8)\n"
     ]
    }
   ],
   "source": [
    "#If you are not downloading data, then start here\n",
    "all_charts = pd.read_csv('BillboardLyricData.txt', sep='\\t', encoding='utf-8')\n",
    "print('Raw DataFrame size:',all_charts.shape)"
   ]
  },
  {
   "cell_type": "code",
   "execution_count": 63,
   "metadata": {
    "collapsed": false
   },
   "outputs": [
    {
     "name": "stdout",
     "output_type": "stream",
     "text": [
      "Raw DataFrame size after missing data removed: (1710, 8)\n"
     ]
    }
   ],
   "source": [
    "## YOUR TASK 1: Remove missing data (hint: page 101, in Raschka)   \n",
    "all_charts = all_charts.dropna()\n",
    "#all_charts = #YOU WRITE SOMETHING HERE\n",
    "print('Raw DataFrame size after missing data removed:',all_charts.shape)"
   ]
  },
  {
   "cell_type": "code",
   "execution_count": 77,
   "metadata": {
    "collapsed": false
   },
   "outputs": [
    {
     "name": "stdout",
     "output_type": "stream",
     "text": [
      "X data (word count features) size (1710, 500)\n"
     ]
    }
   ],
   "source": [
    "# Song lyrics are converted to vectors of word counts via sklearn\n",
    "n_features_to_extract_from_text = 500 #Number of predictor variables (words to use as predictors)\n",
    "vectorizer = CountVectorizer(max_df=0.95, min_df=2,max_features=n_features_to_extract_from_text,stop_words='english')                              \n",
    "vectorizer.fit(all_charts.lyrics) #Creates the dictionary to convert lyrics to counts\n",
    "word_vector = vectorizer.transform(all_charts.lyrics) #Does actual conversion\n",
    "X = word_vector.todense()\n",
    "print('X data (word count features) size',X.shape)"
   ]
  },
  {
   "cell_type": "code",
   "execution_count": 78,
   "metadata": {
    "collapsed": false
   },
   "outputs": [],
   "source": [
    "# 7. YOUR TASK 2: Convert genre lables to ints\n",
    "class_mapping = {label:idx for idx,label in enumerate(np.unique(all_charts.chart))}\n",
    "y = all_charts.chart.map(class_mapping)\n",
    "#y = #YOU WRITE SOMETHING HERE"
   ]
  },
  {
   "cell_type": "code",
   "execution_count": 79,
   "metadata": {
    "collapsed": false
   },
   "outputs": [],
   "source": [
    "# split into train and test\n",
    "X_train, X_test, y_train, y_test = train_test_split(X, y, test_size=0.3)\n"
   ]
  },
  {
   "cell_type": "code",
   "execution_count": 80,
   "metadata": {
    "collapsed": false
   },
   "outputs": [
    {
     "name": "stderr",
     "output_type": "stream",
     "text": [
      "C:\\Users\\bdyet\\Anaconda3\\lib\\site-packages\\sklearn\\utils\\validation.py:429: DataConversionWarning: Data with input dtype int64 was converted to float64 by StandardScaler.\n",
      "  warnings.warn(msg, _DataConversionWarning)\n"
     ]
    }
   ],
   "source": [
    "# YOUR TASK 4: Scale X Data (i.e. standardize between -1 and 1): See Raschka\n",
    "from sklearn.preprocessing import StandardScaler\n",
    "std_scaler = StandardScaler()\n",
    "X_train_std = std_scaler.fit_transform(X_train)\n",
    "X_test_std = std_scaler.transform(X_test)\n",
    "#X_train_std = #YOU WRITE SOMETHING HERE\n",
    "#X_test_std = #YOU WRITE SOMETHING HERE"
   ]
  },
  {
   "cell_type": "code",
   "execution_count": 81,
   "metadata": {
    "collapsed": false
   },
   "outputs": [
    {
     "data": {
      "image/png": "[encoded data removed]",
      "text/plain": [
       "<matplotlib.figure.Figure at 0x2382cfd0a58>"
      ]
     },
     "metadata": {},
     "output_type": "display_data"
    }
   ],
   "source": [
    "# instantiate and fit model\n",
    "model_1 = MultiClassLogisticRegressorPurePython(n_iter=1000, lr=0.1)\n",
    "model_1.fit(X_train_std, y_train)\n",
    "plt.plot(model_1.cost_)\n",
    "plt.show()"
   ]
  },
  {
   "cell_type": "code",
   "execution_count": 82,
   "metadata": {
    "collapsed": false
   },
   "outputs": [
    {
     "name": "stdout",
     "output_type": "stream",
     "text": [
      "[6 5 0 ..., 6 1 5]\n",
      "Train accuracy: 0.9406850459482038\n",
      "Test accuracy: 0.3645224171539961\n"
     ]
    }
   ],
   "source": [
    "# evaluate model\n",
    "print(model_1.predict(X_train_std))\n",
    "train_acc = np.sum(model_1.predict(X_train_std) == y_train) / float(len(X_train))\n",
    "test_acc = np.sum(model_1.predict(X_test_std) == y_test) / float(len(X_test))\n",
    "print('Train accuracy: {}'.format(train_acc))\n",
    "print('Test accuracy: {}'.format(test_acc))"
   ]
  },
  {
   "cell_type": "code",
   "execution_count": null,
   "metadata": {
    "collapsed": true
   },
   "outputs": [],
   "source": []
  }
 ],
 "metadata": {
  "kernelspec": {
   "display_name": "Python 3",
   "language": "python",
   "name": "python3"
  },
  "language_info": {
   "codemirror_mode": {
    "name": "ipython",
    "version": 3
   },
   "file_extension": ".py",
   "mimetype": "text/x-python",
   "name": "python",
   "nbconvert_exporter": "python",
   "pygments_lexer": "ipython3",
   "version": "3.6.0"
  }
 },
 "nbformat": 4,
 "nbformat_minor": 2
}
